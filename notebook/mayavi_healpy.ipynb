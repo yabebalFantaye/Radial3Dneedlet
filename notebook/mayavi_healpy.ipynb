{
 "cells": [
  {
   "cell_type": "code",
   "execution_count": 15,
   "metadata": {
    "collapsed": false
   },
   "outputs": [
    {
     "name": "stdout",
     "output_type": "stream",
     "text": [
      "('home:', '/global/homes/f/fantaye')\n",
      "('scratch', '/global/cscratch1/sd/fantaye')\n"
     ]
    }
   ],
   "source": [
    "import sys, os\n",
    "from os.path import join\n",
    "#from mayavi import mlab\n",
    "import healpy as hp\n",
    "import matplotlib\n",
    "import matplotlib.pyplot as plt\n",
    "import numpy as np\n",
    "%matplotlib inline\n",
    "\n",
    "#sys.path\n",
    "ld_lib=os.getenv('LD_LIBRARY_PATH')\n",
    "scratch='/global/cscratch1/sd/fantaye' #os.getenv('SCRATCH')\n",
    "home=os.getenv('HOME')\n",
    "print('home:',home)\n",
    "print('scratch',scratch)\n",
    "romepy=home+\"/romepy/\"\n",
    "sys.path.append(romepy)"
   ]
  },
  {
   "cell_type": "code",
   "execution_count": 17,
   "metadata": {
    "collapsed": true
   },
   "outputs": [],
   "source": [
    "#my routines\n",
    "import dotunf as unf\n",
    "\n",
    "srcdir=join(scratch,'seedlets/fits4096/SurfDensMap/')\n",
    "rootdir='../'\n",
    "fdir=rootdir+'figures/'\n",
    "if not os.path.exists(fdir):\n",
    "    os.makedirs(fdir)\n",
    "    \n",
    "\n",
    "font = {'family' : 'fantasy',\n",
    "        #'weight' : 'bold',\n",
    "        'size'   : 16}\n",
    "\n",
    "matplotlib.rc('font', **font)\n",
    "\n",
    "#print os.path.abspath(pview.__file__)\n",
    "\n",
    "nmax=128\n",
    "lmax=2000\n",
    "nshell=2*nmax\n",
    "nside=1024\n",
    "npix=hp.nside2npix(nside)"
   ]
  },
  {
   "cell_type": "code",
   "execution_count": 32,
   "metadata": {
    "collapsed": false
   },
   "outputs": [],
   "source": [
    "#os.listdir(home+'/Radial3Dneedlet/output/seedlets')"
   ]
  },
  {
   "cell_type": "code",
   "execution_count": null,
   "metadata": {
    "collapsed": false
   },
   "outputs": [],
   "source": [
    "mapj=[]\n",
    "for j in range(1):\n",
    "    fname=join(srcdir,'a2beta/mapout/map.unf_j'+str(j)+'_glnpow2.unf')\n",
    "    m=unf.read_unf(fname).reshape((npix,nshell),order='F')\n",
    "    mapj.append(m)\n",
    "    \n",
    "mapj[0].shape"
   ]
  },
  {
   "cell_type": "code",
   "execution_count": 8,
   "metadata": {
    "collapsed": false
   },
   "outputs": [
    {
     "name": "stdout",
     "output_type": "stream",
     "text": [
      ":)\n"
     ]
    }
   ],
   "source": [
    "fig, (ax1, ax2)=plt.subplots(ncols=2,figsize=(15,6))\n",
    "hp.mollview(mapj[0][:,0],ax=ax1)\n",
    "hp.mollview(mapj[0][:,1],ax=ax2)"
   ]
  },
  {
   "cell_type": "code",
   "execution_count": 34,
   "metadata": {
    "collapsed": false,
    "scrolled": false
   },
   "outputs": [],
   "source": [
    "z='''\n",
    "The following code is taken from \n",
    "http://zonca.github.io/2013/03/interactive-3d-plot-of-sky-map.html\n",
    "\n",
    "\n",
    "fig, (ax1, ax2)=plt.subplots(ncols=2,figsize=(15,6))\n",
    "# load a WMAP map\n",
    "npix=hp.nside2npix(512)\n",
    "m = np.random.randn(npix)\n",
    "#m = hp.read_map(\"data/wmap_band_iqumap_r9_7yr_W_v4.fits\", 0) * 1e3 # muK\n",
    "hp.mollview(m,ax=ax1)\n",
    "\n",
    "nside = hp.npix2nside(len(m))\n",
    "\n",
    "#value limit\n",
    "vmin = -1e3; vmax = 1e3\n",
    "# size of the grid\n",
    "xsize = ysize = 1000\n",
    "\n",
    "theta = np.linspace(np.pi, 0, ysize)\n",
    "phi   = np.linspace(-np.pi, np.pi, xsize)\n",
    "longitude = np.radians(np.linspace(-180, 180, xsize))\n",
    "latitude = np.radians(np.linspace(-90, 90, ysize))\n",
    "\n",
    "# project the map to a rectangular matrix xsize x ysize\n",
    "PHI, THETA = np.meshgrid(phi, theta)\n",
    "grid_pix = hp.ang2pix(nside, THETA, PHI)\n",
    "grid_map = m[grid_pix]\n",
    "\n",
    "# Create a sphere\n",
    "r = 0.3\n",
    "x = r*np.sin(THETA)*np.cos(PHI)\n",
    "y = r*np.sin(THETA)*np.sin(PHI)\n",
    "z = r*np.cos(THETA)\n",
    "\n",
    "mlab.figure(1, bgcolor=(1, 1, 1), fgcolor=(0, 0, 0), size=(400, 300))\n",
    "mlab.clf()\n",
    "\n",
    "mlab.mesh(x, y, z, scalars=grid_map, colormap=\"jet\", vmin=vmin, vmax=vmax) \n",
    "'''"
   ]
  },
  {
   "cell_type": "code",
   "execution_count": null,
   "metadata": {
    "collapsed": true
   },
   "outputs": [],
   "source": []
  }
 ],
 "metadata": {
  "kernelspec": {
   "display_name": "py2env",
   "language": "python",
   "name": "py2env"
  },
  "language_info": {
   "codemirror_mode": {
    "name": "ipython",
    "version": 2
   },
   "file_extension": ".py",
   "mimetype": "text/x-python",
   "name": "python",
   "nbconvert_exporter": "python",
   "pygments_lexer": "ipython2",
   "version": "2.7.11"
  }
 },
 "nbformat": 4,
 "nbformat_minor": 0
}
