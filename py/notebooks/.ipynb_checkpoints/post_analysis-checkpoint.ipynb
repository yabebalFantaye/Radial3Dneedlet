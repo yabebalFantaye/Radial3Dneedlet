{
 "cells": [
  {
   "cell_type": "code",
   "execution_count": 2,
   "metadata": {
    "collapsed": false
   },
   "outputs": [
    {
     "name": "stdout",
     "output_type": "stream",
     "text": [
      "/Users/yabebal/My-Works/romepy/patch_visu.py\n"
     ]
    }
   ],
   "source": [
    "from scipy import signal\n",
    "import scipy\n",
    "import numpy as np\n",
    "import matplotlib.pyplot as plt\n",
    "import sys, os\n",
    "import json\n",
    "\n",
    "#my modules\n",
    "import patch_visu as pview \n",
    "from dotunf import  *\n",
    "\n",
    "rootdir='../../'\n",
    "fdir=rootdir+'figures/'\n",
    "if not os.path.exists(fdir):\n",
    "    os.makedirs(fdir)\n",
    "    \n",
    "%matplotlib inline\n",
    "\n",
    "print os.path.abspath(pview.__file__)"
   ]
  },
  {
   "cell_type": "code",
   "execution_count": 3,
   "metadata": {
    "collapsed": false
   },
   "outputs": [
    {
     "name": "stdout",
     "output_type": "stream",
     "text": [
      "(155062,)\n",
      "[ 0.1128172   0.04250066  0.02289388  0.01964716  0.02081219  0.01888032\n",
      "  0.01456546  0.01072497  0.00999512  0.00827385]\n"
     ]
    }
   ],
   "source": [
    "fcln=rootdir+'output/fits2bin4096/almn_all.unf.cln'\n",
    "cln_row=read_unf(fcln)\n",
    "print cln_row.shape\n",
    "print cln_row[0:10]"
   ]
  },
  {
   "cell_type": "code",
   "execution_count": 4,
   "metadata": {
    "collapsed": false
   },
   "outputs": [
    {
     "name": "stdout",
     "output_type": "stream",
     "text": [
      "(62, 2501)\n"
     ]
    }
   ],
   "source": [
    "cln=cln_row.reshape((62,2501))\n",
    "img_cln = scipy.misc.toimage(cln) #, cmin=0.0, cmax=...)\n",
    "print cln.shape\n"
   ]
  },
  {
   "cell_type": "code",
   "execution_count": 6,
   "metadata": {
    "collapsed": false
   },
   "outputs": [
    {
     "data": {
      "image/png": "[encoded data removed]",
      "text/plain": [
       "<matplotlib.figure.Figure at 0x10a1bef50>"
      ]
     },
     "metadata": {},
     "output_type": "display_data"
    }
   ],
   "source": [
    "tits=['Cln: $\\ell_{max}$=2500; $n_{max}$=62']\n",
    "norm = LogNorm(vmin=cln.min(),vmax=cln.max())) \n",
    "img = pview.mat_view(cln,norm=norm) #,ax_range=[])\n",
    "img.set_cmap('hot')\n",
    "# plt.title(tits)\n",
    "# plt.xlabel('$n$')\n",
    "# plt.ylabel('$\\ell$')\n",
    "#plt.colorbar(format='%.0e')"
   ]
  },
  {
   "cell_type": "code",
   "execution_count": null,
   "metadata": {
    "collapsed": true
   },
   "outputs": [],
   "source": []
  }
 ],
 "metadata": {
  "kernelspec": {
   "display_name": "Python 2",
   "language": "python",
   "name": "python2"
  },
  "language_info": {
   "codemirror_mode": {
    "name": "ipython",
    "version": 2
   },
   "file_extension": ".py",
   "mimetype": "text/x-python",
   "name": "python",
   "nbconvert_exporter": "python",
   "pygments_lexer": "ipython2",
   "version": "2.7.11"
  }
 },
 "nbformat": 4,
 "nbformat_minor": 0
}
