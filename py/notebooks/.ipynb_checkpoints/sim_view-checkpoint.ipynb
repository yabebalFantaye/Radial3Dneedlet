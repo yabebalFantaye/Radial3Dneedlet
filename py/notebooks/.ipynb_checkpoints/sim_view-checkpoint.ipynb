{
 "cells": [
  {
   "cell_type": "code",
   "execution_count": 2,
   "metadata": {
    "collapsed": false
   },
   "outputs": [
    {
     "name": "stderr",
     "output_type": "stream",
     "text": [
      "/global/homes/f/fantaye/.conda/envs/work/lib/python2.7/site-packages/IPython/kernel/__init__.py:13: ShimWarning: The `IPython.kernel` package has been deprecated. You should import from ipykernel or jupyter_client instead.\n",
      "  \"You should import from ipykernel or jupyter_client instead.\", ShimWarning)\n"
     ]
    }
   ],
   "source": [
    "import sys, os\n",
    "from os.path import join\n",
    "from mayavi import mlab\n",
    "import healpy as hp\n",
    "import matplotlib\n",
    "matplotlib.use('Qt4Agg')\n",
    "matplotlib.interactive(True)\n",
    "import matplotlib.pyplot as plt\n",
    "from mpl_toolkits.mplot3d import Axes3D\n",
    "\n"
   ]
  },
  {
   "cell_type": "code",
   "execution_count": null,
   "metadata": {
    "collapsed": false,
    "scrolled": true
   },
   "outputs": [],
   "source": [
    "get_ipython().magic('matplotlib inline')\n",
    "\n",
    "#sys.path\n",
    "ld_lib=os.getenv('LD_LIBRARY_PATH')\n",
    "scratch='/global/cscratch1/sd/fantaye' #os.getenv('SCRATCH')\n",
    "home=os.getenv('HOME')\n",
    "print('home:',home)\n",
    "print('scratch',scratch)\n",
    "romepy=home+\"/romepy/\"\n",
    "sys.path.append(romepy)\n",
    "\n",
    "\n",
    "#---------------------\n",
    "#my routines\n",
    "import dotunf as unf\n",
    "\n",
    "def threed_sphere(m,vmin=None,vmax=None):\n",
    "    nside = hp.npix2nside(len(m))\n",
    "    xsize = ysize = 1000\n",
    "\n",
    "    theta = np.linspace(np.pi, 0, ysize)\n",
    "    phi   = np.linspace(-np.pi, np.pi, xsize)\n",
    "    longitude = np.radians(np.linspace(-180, 180, xsize))\n",
    "    latitude = np.radians(np.linspace(-90, 90, ysize))\n",
    "\n",
    "    # project the map to a rectangular matrix xsize x ysize\n",
    "    PHI, THETA = np.meshgrid(phi, theta)\n",
    "    grid_pix = hp.ang2pix(nside, THETA, PHI)\n",
    "    grid_map = m[grid_pix]\n",
    "\n",
    "    # Create a sphere\n",
    "    r = 0.3\n",
    "    x = r*np.sin(THETA)*np.cos(PHI)\n",
    "    y = r*np.sin(THETA)*np.sin(PHI)\n",
    "    z = r*np.cos(THETA)\n",
    "\n",
    "    mlab.figure(1, bgcolor=(1, 1, 1), fgcolor=(0, 0, 0), size=(400, 300))\n",
    "    mlab.clf()\n",
    "\n",
    "    mlab.mesh(x, y, z, scalars=grid_map, colormap=\"jet\", vmin=vmin, vmax=vmax) \n",
    "\n",
    "\n",
    "\n",
    "srcdir=join(scratch,'seedlets/fits4096/SurfDensMap/')\n",
    "rootdir='../'\n",
    "fdir=rootdir+'figures/'\n",
    "if not os.path.exists(fdir):\n",
    "    os.makedirs(fdir)\n",
    "    \n",
    "\n",
    "font = {'family' : 'fantasy',\n",
    "        #'weight' : 'bold',\n",
    "        'size'   : 16}\n",
    "\n",
    "matplotlib.rc('font', **font)\n",
    "\n",
    "#print os.path.abspath(pview.__file__)\n",
    "\n",
    "nj=4\n",
    "nmax=128\n",
    "lmax=2000\n",
    "nshell=2*nmax\n",
    "nside=1024\n",
    "npix=hp.nside2npix(nside)\n",
    "\n",
    "#---------------------\n",
    "\n",
    "#os.listdir(home+'/Radial3Dneedlet/output/seedlets')\n",
    "fname=join(srcdir,'a2beta/gln2.unf')\n",
    "cnt=(lmax+1)*nshell*nj\n",
    "gln=unf.runf(fname,count=cnt, shape=(lmax+1,nshell,nj))\n",
    "\n",
    "fig = plt.figure()\n",
    "ax3d = fig.gca(projection='3d')\n",
    "x = np.linspace(0, lmax, lmax+1)\n",
    "y = np.linspace(0, nmax, nmax+1)\n",
    "x,y=np.meshgrid(y,x)\n",
    "z = gln[:,0:nmax+1,1]\n",
    "ax3d.plot_surface(x, y, z,  rstride=4, cstride=4,cmap='jet',\n",
    "    linewidth=0, antialiased=False)\n",
    "\n",
    "\n",
    "\n",
    "mapj=[]\n",
    "for j in range(1,2):\n",
    "\tm=np.ndarray((npix,10))\n",
    "\tfor ir in range(10):\n",
    "\t\tfname=join(srcdir,'a2beta/maps/map.unf_gln2_j'+str(j)+'_r'+str(ir)+'.unf')\n",
    "\t\t#mr=np.fromfile(fname, count=npix,dtype=np.float64)\n",
    "\t\tmr=unf.runf(fname,count=npix)\n",
    "\t\tif ir<10: print('j, ir, map.shape,max,min:',j, ir,mr.shape,mr.max(),mr.min())\n",
    "\t\tm[:,ir]=mr \n",
    "\n",
    "\tmapj.append(m)\n",
    "    \n",
    "mapj[0].shape\n",
    "\n",
    "#---------------------\n",
    "\n",
    "#fig, (ax1, ax2)=plt.subplots(ncols=2,figsize=(15,6))\n",
    "ir=5\n",
    "hp.mollview(mapj[0][:,ir],title='shell '+str(ir))\n",
    "ir=8\n",
    "#hp.mollview(mapj[0][:,ir],title='shell '+str(ir))\n",
    "\n",
    "threed_sphere(mapj[0][:,ir])"
   ]
  },
  {
   "cell_type": "code",
   "execution_count": null,
   "metadata": {
    "collapsed": true
   },
   "outputs": [],
   "source": [
    "\n"
   ]
  }
 ],
 "metadata": {
  "kernelspec": {
   "display_name": "Python 2",
   "language": "python",
   "name": "python2"
  },
  "language_info": {
   "codemirror_mode": {
    "name": "ipython",
    "version": 2
   },
   "file_extension": ".py",
   "mimetype": "text/x-python",
   "name": "python",
   "nbconvert_exporter": "python",
   "pygments_lexer": "ipython2",
   "version": "2.7.11"
  }
 },
 "nbformat": 4,
 "nbformat_minor": 0
}
